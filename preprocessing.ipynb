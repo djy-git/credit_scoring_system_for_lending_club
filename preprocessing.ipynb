{
 "cells": [
  {
   "cell_type": "markdown",
   "id": "336cd8f8",
   "metadata": {},
   "source": [
    "# 1. Import Packages"
   ]
  },
  {
   "cell_type": "code",
   "execution_count": null,
   "id": "6e23a828",
   "metadata": {},
   "outputs": [],
   "source": [
    "%load_ext autoreload\n",
    "%autoreload 2\n",
    "\n",
    "from util1 import *"
   ]
  },
  {
   "cell_type": "code",
   "execution_count": null,
   "id": "1dfab8d6",
   "metadata": {},
   "outputs": [],
   "source": [
    "plt.style.use('ggplot')"
   ]
  },
  {
   "cell_type": "markdown",
   "id": "c8cb8f97",
   "metadata": {},
   "source": [
    "# 2. Load Dataset"
   ]
  },
  {
   "cell_type": "code",
   "execution_count": null,
   "id": "7378e0a2",
   "metadata": {},
   "outputs": [],
   "source": [
    "cached_data_path = join(PATH.cache, 'train_val_test.joblib')\n",
    "if exists(cached_data_path):\n",
    "    datas = joblib.load(cached_data_path)"
   ]
  },
  {
   "cell_type": "markdown",
   "id": "56ee9c2a",
   "metadata": {},
   "source": [
    "---"
   ]
  },
  {
   "cell_type": "code",
   "execution_count": null,
   "id": "bf9f3c03",
   "metadata": {},
   "outputs": [],
   "source": [
    "data   = load_data()\n",
    "target = 'loan_status'\n",
    "data   = select_data(data, target)\n",
    "datas  = split_data(data, target, TEST_SIZE)"
   ]
  },
  {
   "cell_type": "code",
   "execution_count": null,
   "id": "f724093e",
   "metadata": {},
   "outputs": [],
   "source": [
    "sample = datas['train'].sample(100)\n",
    "plot_missing_value(sample, figsize=(30, 8))\n",
    "plot_features(sample);"
   ]
  },
  {
   "cell_type": "code",
   "execution_count": null,
   "id": "8c4da01e",
   "metadata": {},
   "outputs": [],
   "source": [
    "imputer = get_imputer()\n",
    "sample = imputer.fit_transform(sample)\n",
    "plot_missing_value(sample, figsize=(30, 8))\n",
    "plot_features(sample);"
   ]
  },
  {
   "cell_type": "code",
   "execution_count": null,
   "id": "20538ce5",
   "metadata": {},
   "outputs": [],
   "source": [
    "static_fe_processor = get_static_fe_processor()\n",
    "sample = static_fe_processor.fit_transform(sample)\n",
    "plot_missing_value(sample, figsize=(30, 8))\n",
    "plot_features(sample[[c for c in sample.columns if not c.startswith('emp_title')]], figsize=(30, 20));"
   ]
  },
  {
   "cell_type": "code",
   "execution_count": null,
   "id": "2cfe7262",
   "metadata": {},
   "outputs": [],
   "source": [
    "dfe_processor = get_dynamic_fe_processor()\n",
    "sample = dfe_processor.fit_transform(sample)"
   ]
  },
  {
   "cell_type": "code",
   "execution_count": null,
   "id": "26e38868",
   "metadata": {},
   "outputs": [],
   "source": [
    "%%time\n",
    "from sklearn.preprocessing import LabelEncoder\n",
    "\n",
    "pp     = get_preprocessor()\n",
    "col_tr = pp[1][1]\n",
    "y_enc  = LabelEncoder()\n",
    "\n",
    "cached_data = {}\n",
    "for id in ('train', 'val', 'test'):\n",
    "    X, y = datas[id].drop(target, axis=1), datas[id][target]\n",
    "    if id == 'train':\n",
    "        X_proc = restore_cols(pp.fit_transform(X), col_tr)\n",
    "        y      = pd.Series(y_enc.fit_transform(y), name=target)\n",
    "    else:\n",
    "        X_proc = restore_cols(pp.transform(X), col_tr)\n",
    "        y      = pd.Series(y_enc.transform(y), name=target)\n",
    "    cached_data[id] = X_proc.join(y)\n",
    "cached_data.update({'target': target, 'classes': y_enc.classes_})\n",
    "joblib.dump(cached_data, join(PATH.cache, 'train_val_test.joblib'))\n",
    "\n",
    "cached_data = {}\n",
    "for id in ('train_full', 'test'):\n",
    "    X, y = datas[id].drop(target, axis=1), datas[id][target]\n",
    "    if id == 'train_full':\n",
    "        X_proc = restore_cols(pp.fit_transform(X), col_tr)\n",
    "        y      = pd.Series(y_enc.fit_transform(y), name=target)\n",
    "    else:\n",
    "        X_proc = restore_cols(pp.transform(X), col_tr)\n",
    "        y      = pd.Series(y_enc.transform(y), name=target)\n",
    "    cached_data[id] = X_proc.join(y)\n",
    "cached_data.update({'target': target, 'classes': y_enc.classes_})\n",
    "joblib.dump(datas, join(PATH.cache, 'train_full_test.joblib'))"
   ]
  }
 ],
 "metadata": {
  "kernelspec": {
   "display_name": "rapids",
   "language": "python",
   "name": "python3"
  },
  "language_info": {
   "codemirror_mode": {
    "name": "ipython",
    "version": 3
   },
   "file_extension": ".py",
   "mimetype": "text/x-python",
   "name": "python",
   "nbconvert_exporter": "python",
   "pygments_lexer": "ipython3",
   "version": "3.8.13"
  }
 },
 "nbformat": 4,
 "nbformat_minor": 5
}
